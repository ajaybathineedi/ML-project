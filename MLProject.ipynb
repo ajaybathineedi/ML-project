{
 "cells": [
  {
   "cell_type": "code",
   "execution_count": 2,
   "id": "7b319152-7c97-4456-a73d-b05cdc75f34f",
   "metadata": {},
   "outputs": [],
   "source": [
    "import numpy as np\n",
    "import pandas as pd\n",
    "import matplotlib.pyplot as plt\n",
    "import seaborn as sns\n",
    "from sklearn.model_selection import train_test_split\n",
    "from sklearn.linear_model import LinearRegression\n",
    "from sklearn import metrics\n",
    "df=pd.read_csv('stress.csv')"
   ]
  },
  {
   "cell_type": "code",
   "execution_count": 3,
   "id": "2410f274-1d78-46e3-9fb3-4044adff80c4",
   "metadata": {},
   "outputs": [
    {
     "data": {
      "text/html": [
       "<div>\n",
       "<style scoped>\n",
       "    .dataframe tbody tr th:only-of-type {\n",
       "        vertical-align: middle;\n",
       "    }\n",
       "\n",
       "    .dataframe tbody tr th {\n",
       "        vertical-align: top;\n",
       "    }\n",
       "\n",
       "    .dataframe thead th {\n",
       "        text-align: right;\n",
       "    }\n",
       "</style>\n",
       "<table border=\"1\" class=\"dataframe\">\n",
       "  <thead>\n",
       "    <tr style=\"text-align: right;\">\n",
       "      <th></th>\n",
       "      <th>snoring rate</th>\n",
       "      <th>Respiraton rate</th>\n",
       "      <th>Body Temparature</th>\n",
       "      <th>Limb movement</th>\n",
       "      <th>Blood oxygen</th>\n",
       "      <th>eye movement</th>\n",
       "      <th>sleeping hours</th>\n",
       "      <th>heart rate</th>\n",
       "      <th>stress level</th>\n",
       "    </tr>\n",
       "  </thead>\n",
       "  <tbody>\n",
       "    <tr>\n",
       "      <th>0</th>\n",
       "      <td>93.80</td>\n",
       "      <td>25.680</td>\n",
       "      <td>91.840</td>\n",
       "      <td>16.600</td>\n",
       "      <td>89.840</td>\n",
       "      <td>99.60</td>\n",
       "      <td>1.840</td>\n",
       "      <td>74.20</td>\n",
       "      <td>3</td>\n",
       "    </tr>\n",
       "    <tr>\n",
       "      <th>1</th>\n",
       "      <td>91.64</td>\n",
       "      <td>25.104</td>\n",
       "      <td>91.552</td>\n",
       "      <td>15.880</td>\n",
       "      <td>89.552</td>\n",
       "      <td>98.88</td>\n",
       "      <td>1.552</td>\n",
       "      <td>72.76</td>\n",
       "      <td>3</td>\n",
       "    </tr>\n",
       "    <tr>\n",
       "      <th>2</th>\n",
       "      <td>60.00</td>\n",
       "      <td>20.000</td>\n",
       "      <td>96.000</td>\n",
       "      <td>10.000</td>\n",
       "      <td>95.000</td>\n",
       "      <td>85.00</td>\n",
       "      <td>7.000</td>\n",
       "      <td>60.00</td>\n",
       "      <td>1</td>\n",
       "    </tr>\n",
       "    <tr>\n",
       "      <th>3</th>\n",
       "      <td>85.76</td>\n",
       "      <td>23.536</td>\n",
       "      <td>90.768</td>\n",
       "      <td>13.920</td>\n",
       "      <td>88.768</td>\n",
       "      <td>96.92</td>\n",
       "      <td>0.768</td>\n",
       "      <td>68.84</td>\n",
       "      <td>3</td>\n",
       "    </tr>\n",
       "    <tr>\n",
       "      <th>4</th>\n",
       "      <td>48.12</td>\n",
       "      <td>17.248</td>\n",
       "      <td>97.872</td>\n",
       "      <td>6.496</td>\n",
       "      <td>96.248</td>\n",
       "      <td>72.48</td>\n",
       "      <td>8.248</td>\n",
       "      <td>53.12</td>\n",
       "      <td>0</td>\n",
       "    </tr>\n",
       "  </tbody>\n",
       "</table>\n",
       "</div>"
      ],
      "text/plain": [
       "   snoring rate  Respiraton rate  Body Temparature  Limb movement  \\\n",
       "0         93.80           25.680            91.840         16.600   \n",
       "1         91.64           25.104            91.552         15.880   \n",
       "2         60.00           20.000            96.000         10.000   \n",
       "3         85.76           23.536            90.768         13.920   \n",
       "4         48.12           17.248            97.872          6.496   \n",
       "\n",
       "   Blood oxygen   eye movement  sleeping hours  heart rate  stress level  \n",
       "0         89.840         99.60           1.840       74.20             3  \n",
       "1         89.552         98.88           1.552       72.76             3  \n",
       "2         95.000         85.00           7.000       60.00             1  \n",
       "3         88.768         96.92           0.768       68.84             3  \n",
       "4         96.248         72.48           8.248       53.12             0  "
      ]
     },
     "execution_count": 3,
     "metadata": {},
     "output_type": "execute_result"
    }
   ],
   "source": [
    "df.head()"
   ]
  },
  {
   "cell_type": "code",
   "execution_count": 4,
   "id": "69adcc1d-4da7-44fa-a318-95f17f9fbcd0",
   "metadata": {},
   "outputs": [
    {
     "data": {
      "text/html": [
       "<div>\n",
       "<style scoped>\n",
       "    .dataframe tbody tr th:only-of-type {\n",
       "        vertical-align: middle;\n",
       "    }\n",
       "\n",
       "    .dataframe tbody tr th {\n",
       "        vertical-align: top;\n",
       "    }\n",
       "\n",
       "    .dataframe thead th {\n",
       "        text-align: right;\n",
       "    }\n",
       "</style>\n",
       "<table border=\"1\" class=\"dataframe\">\n",
       "  <thead>\n",
       "    <tr style=\"text-align: right;\">\n",
       "      <th></th>\n",
       "      <th>snoring rate</th>\n",
       "      <th>Respiraton rate</th>\n",
       "      <th>Body Temparature</th>\n",
       "      <th>Limb movement</th>\n",
       "      <th>Blood oxygen</th>\n",
       "      <th>eye movement</th>\n",
       "      <th>sleeping hours</th>\n",
       "      <th>heart rate</th>\n",
       "      <th>stress level</th>\n",
       "    </tr>\n",
       "  </thead>\n",
       "  <tbody>\n",
       "    <tr>\n",
       "      <th>625</th>\n",
       "      <td>69.600</td>\n",
       "      <td>20.960</td>\n",
       "      <td>92.960</td>\n",
       "      <td>10.960</td>\n",
       "      <td>90.960</td>\n",
       "      <td>89.80</td>\n",
       "      <td>3.440</td>\n",
       "      <td>62.40</td>\n",
       "      <td>2</td>\n",
       "    </tr>\n",
       "    <tr>\n",
       "      <th>626</th>\n",
       "      <td>48.440</td>\n",
       "      <td>17.376</td>\n",
       "      <td>98.064</td>\n",
       "      <td>6.752</td>\n",
       "      <td>96.376</td>\n",
       "      <td>73.76</td>\n",
       "      <td>8.376</td>\n",
       "      <td>53.44</td>\n",
       "      <td>0</td>\n",
       "    </tr>\n",
       "    <tr>\n",
       "      <th>627</th>\n",
       "      <td>97.504</td>\n",
       "      <td>27.504</td>\n",
       "      <td>86.880</td>\n",
       "      <td>17.752</td>\n",
       "      <td>84.256</td>\n",
       "      <td>101.88</td>\n",
       "      <td>0.000</td>\n",
       "      <td>78.76</td>\n",
       "      <td>4</td>\n",
       "    </tr>\n",
       "    <tr>\n",
       "      <th>628</th>\n",
       "      <td>58.640</td>\n",
       "      <td>19.728</td>\n",
       "      <td>95.728</td>\n",
       "      <td>9.728</td>\n",
       "      <td>94.592</td>\n",
       "      <td>84.32</td>\n",
       "      <td>6.728</td>\n",
       "      <td>59.32</td>\n",
       "      <td>1</td>\n",
       "    </tr>\n",
       "    <tr>\n",
       "      <th>629</th>\n",
       "      <td>73.920</td>\n",
       "      <td>21.392</td>\n",
       "      <td>93.392</td>\n",
       "      <td>11.392</td>\n",
       "      <td>91.392</td>\n",
       "      <td>91.96</td>\n",
       "      <td>4.088</td>\n",
       "      <td>63.48</td>\n",
       "      <td>2</td>\n",
       "    </tr>\n",
       "  </tbody>\n",
       "</table>\n",
       "</div>"
      ],
      "text/plain": [
       "     snoring rate  Respiraton rate  Body Temparature  Limb movement  \\\n",
       "625        69.600           20.960            92.960         10.960   \n",
       "626        48.440           17.376            98.064          6.752   \n",
       "627        97.504           27.504            86.880         17.752   \n",
       "628        58.640           19.728            95.728          9.728   \n",
       "629        73.920           21.392            93.392         11.392   \n",
       "\n",
       "     Blood oxygen   eye movement  sleeping hours  heart rate  stress level  \n",
       "625         90.960         89.80           3.440       62.40             2  \n",
       "626         96.376         73.76           8.376       53.44             0  \n",
       "627         84.256        101.88           0.000       78.76             4  \n",
       "628         94.592         84.32           6.728       59.32             1  \n",
       "629         91.392         91.96           4.088       63.48             2  "
      ]
     },
     "execution_count": 4,
     "metadata": {},
     "output_type": "execute_result"
    }
   ],
   "source": [
    "df.tail()\n"
   ]
  },
  {
   "cell_type": "code",
   "execution_count": 2,
   "id": "8f54d54e-1013-4f83-8302-32f6d25b6d1d",
   "metadata": {},
   "outputs": [
    {
     "name": "stdout",
     "output_type": "stream",
     "text": [
      "<class 'pandas.core.frame.DataFrame'>\n",
      "RangeIndex: 630 entries, 0 to 629\n",
      "Data columns (total 9 columns):\n",
      " #   Column            Non-Null Count  Dtype  \n",
      "---  ------            --------------  -----  \n",
      " 0   snoring rate      630 non-null    float64\n",
      " 1   Respiraton rate   630 non-null    float64\n",
      " 2   Body Temparature  630 non-null    float64\n",
      " 3   Limb movement     630 non-null    float64\n",
      " 4   Blood oxygen      630 non-null    float64\n",
      " 5   eye movement      630 non-null    float64\n",
      " 6   sleeping hours    630 non-null    float64\n",
      " 7   heart rate        630 non-null    float64\n",
      " 8   stress level      630 non-null    int64  \n",
      "dtypes: float64(8), int64(1)\n",
      "memory usage: 44.4 KB\n"
     ]
    }
   ],
   "source": [
    "df.info()"
   ]
  },
  {
   "cell_type": "code",
   "execution_count": 3,
   "id": "f4731772-4855-4282-9fa0-4a5f32947b4d",
   "metadata": {},
   "outputs": [
    {
     "data": {
      "text/plain": [
       "snoring rate        0\n",
       "Respiraton rate     0\n",
       "Body Temparature    0\n",
       "Limb movement       0\n",
       "Blood oxygen        0\n",
       "eye movement        0\n",
       "sleeping hours      0\n",
       "heart rate          0\n",
       "stress level        0\n",
       "dtype: int64"
      ]
     },
     "execution_count": 3,
     "metadata": {},
     "output_type": "execute_result"
    }
   ],
   "source": [
    "df.isnull().sum()"
   ]
  },
  {
   "cell_type": "code",
   "execution_count": 4,
   "id": "ca399fb9-627f-4cf7-b6c4-0d4a35455bd0",
   "metadata": {},
   "outputs": [
    {
     "data": {
      "text/plain": [
       "(630, 9)"
      ]
     },
     "execution_count": 4,
     "metadata": {},
     "output_type": "execute_result"
    }
   ],
   "source": [
    "df.shape"
   ]
  },
  {
   "cell_type": "code",
   "execution_count": 5,
   "id": "993a4ad3-78a4-48fd-9434-6f24a3cecb16",
   "metadata": {},
   "outputs": [],
   "source": [
    "x=df.iloc[:,0:3].values\n",
    "y=df.iloc[:,-1].values"
   ]
  },
  {
   "cell_type": "code",
   "execution_count": 6,
   "id": "66985322-7e6d-435d-8552-6b9ac6b4b56c",
   "metadata": {},
   "outputs": [],
   "source": [
    "from sklearn.model_selection import train_test_split"
   ]
  },
  {
   "cell_type": "code",
   "execution_count": 7,
   "id": "bf77d914-e334-4b3a-913a-94d40ad1d736",
   "metadata": {},
   "outputs": [],
   "source": [
    "x_train,x_test,y_train,y_test=train_test_split(x,y,test_size=0.3)"
   ]
  },
  {
   "cell_type": "code",
   "execution_count": 8,
   "id": "37a01800-ef00-4e5f-8327-946591b187b4",
   "metadata": {},
   "outputs": [
    {
     "name": "stdout",
     "output_type": "stream",
     "text": [
      "Correlation Matrix:\n",
      "                  snoring rate  Respiraton rate  Body Temparature  \\\n",
      "snoring rate          1.000000         0.976268         -0.902475   \n",
      "Respiraton rate       0.976268         1.000000         -0.889237   \n",
      "Body Temparature     -0.902475        -0.889237          1.000000   \n",
      "Limb movement         0.981078         0.991738         -0.896412   \n",
      "Blood oxygen         -0.903140        -0.889210          0.998108   \n",
      "eye movement          0.950600         0.935572         -0.857299   \n",
      "sleeping hours       -0.920554        -0.891855          0.954860   \n",
      "heart rate            0.976268         1.000000         -0.889237   \n",
      "stress level          0.975322         0.963516         -0.962354   \n",
      "\n",
      "                  Limb movement  Blood oxygen   eye movement  sleeping hours  \\\n",
      "snoring rate           0.981078      -0.903140      0.950600       -0.920554   \n",
      "Respiraton rate        0.991738      -0.889210      0.935572       -0.891855   \n",
      "Body Temparature      -0.896412       0.998108     -0.857299        0.954860   \n",
      "Limb movement          1.000000      -0.898527      0.964703       -0.901102   \n",
      "Blood oxygen          -0.898527       1.000000     -0.862136        0.950189   \n",
      "eye movement           0.964703      -0.862136      1.000000       -0.893952   \n",
      "sleeping hours        -0.901102       0.950189     -0.893952        1.000000   \n",
      "heart rate             0.991738      -0.889210      0.935572       -0.891855   \n",
      "stress level           0.971071      -0.961092      0.951988       -0.973036   \n",
      "\n",
      "                  heart rate  stress level  \n",
      "snoring rate        0.976268      0.975322  \n",
      "Respiraton rate     1.000000      0.963516  \n",
      "Body Temparature   -0.889237     -0.962354  \n",
      "Limb movement       0.991738      0.971071  \n",
      "Blood oxygen       -0.889210     -0.961092  \n",
      "eye movement        0.935572      0.951988  \n",
      "sleeping hours     -0.891855     -0.973036  \n",
      "heart rate          1.000000      0.963516  \n",
      "stress level        0.963516      1.000000  \n"
     ]
    }
   ],
   "source": [
    "correlation_matrix = df.corr()\n",
    "print(\"Correlation Matrix:\")\n",
    "print(correlation_matrix)"
   ]
  },
  {
   "cell_type": "code",
   "execution_count": 9,
   "id": "c0de4ea4-affc-4ba1-baee-3c18403ecf9a",
   "metadata": {},
   "outputs": [
    {
     "data": {
      "image/png": "[encoded data removed]",
      "text/plain": [
       "<Figure size 1000x800 with 2 Axes>"
      ]
     },
     "metadata": {},
     "output_type": "display_data"
    }
   ],
   "source": [
    "plt.figure(figsize=(10, 8))\n",
    "sns.heatmap(correlation_matrix, annot=True, cmap='coolwarm', fmt=\".2f\", linewidths=0.5)\n",
    "plt.title('Correlation Matrix')\n",
    "plt.show()"
   ]
  },
  {
   "cell_type": "code",
   "execution_count": 10,
   "id": "a8f462e4-32be-43fe-a8d7-7efef68d7d62",
   "metadata": {},
   "outputs": [],
   "source": [
    "#support vector classifier"
   ]
  },
  {
   "cell_type": "code",
   "execution_count": 11,
   "id": "2e25415d-a87e-4f8b-90a6-3314c279fa10",
   "metadata": {},
   "outputs": [
    {
     "data": {
      "text/html": [
       "<style>#sk-container-id-1 {color: black;background-color: white;}#sk-container-id-1 pre{padding: 0;}#sk-container-id-1 div.sk-toggleable {background-color: white;}#sk-container-id-1 label.sk-toggleable__label {cursor: pointer;display: block;width: 100%;margin-bottom: 0;padding: 0.3em;box-sizing: border-box;text-align: center;}#sk-container-id-1 label.sk-toggleable__label-arrow:before {content: \"▸\";float: left;margin-right: 0.25em;color: #696969;}#sk-container-id-1 label.sk-toggleable__label-arrow:hover:before {color: black;}#sk-container-id-1 div.sk-estimator:hover label.sk-toggleable__label-arrow:before {color: black;}#sk-container-id-1 div.sk-toggleable__content {max-height: 0;max-width: 0;overflow: hidden;text-align: left;background-color: #f0f8ff;}#sk-container-id-1 div.sk-toggleable__content pre {margin: 0.2em;color: black;border-radius: 0.25em;background-color: #f0f8ff;}#sk-container-id-1 input.sk-toggleable__control:checked~div.sk-toggleable__content {max-height: 200px;max-width: 100%;overflow: auto;}#sk-container-id-1 input.sk-toggleable__control:checked~label.sk-toggleable__label-arrow:before {content: \"▾\";}#sk-container-id-1 div.sk-estimator input.sk-toggleable__control:checked~label.sk-toggleable__label {background-color: #d4ebff;}#sk-container-id-1 div.sk-label input.sk-toggleable__control:checked~label.sk-toggleable__label {background-color: #d4ebff;}#sk-container-id-1 input.sk-hidden--visually {border: 0;clip: rect(1px 1px 1px 1px);clip: rect(1px, 1px, 1px, 1px);height: 1px;margin: -1px;overflow: hidden;padding: 0;position: absolute;width: 1px;}#sk-container-id-1 div.sk-estimator {font-family: monospace;background-color: #f0f8ff;border: 1px dotted black;border-radius: 0.25em;box-sizing: border-box;margin-bottom: 0.5em;}#sk-container-id-1 div.sk-estimator:hover {background-color: #d4ebff;}#sk-container-id-1 div.sk-parallel-item::after {content: \"\";width: 100%;border-bottom: 1px solid gray;flex-grow: 1;}#sk-container-id-1 div.sk-label:hover label.sk-toggleable__label {background-color: #d4ebff;}#sk-container-id-1 div.sk-serial::before {content: \"\";position: absolute;border-left: 1px solid gray;box-sizing: border-box;top: 0;bottom: 0;left: 50%;z-index: 0;}#sk-container-id-1 div.sk-serial {display: flex;flex-direction: column;align-items: center;background-color: white;padding-right: 0.2em;padding-left: 0.2em;position: relative;}#sk-container-id-1 div.sk-item {position: relative;z-index: 1;}#sk-container-id-1 div.sk-parallel {display: flex;align-items: stretch;justify-content: center;background-color: white;position: relative;}#sk-container-id-1 div.sk-item::before, #sk-container-id-1 div.sk-parallel-item::before {content: \"\";position: absolute;border-left: 1px solid gray;box-sizing: border-box;top: 0;bottom: 0;left: 50%;z-index: -1;}#sk-container-id-1 div.sk-parallel-item {display: flex;flex-direction: column;z-index: 1;position: relative;background-color: white;}#sk-container-id-1 div.sk-parallel-item:first-child::after {align-self: flex-end;width: 50%;}#sk-container-id-1 div.sk-parallel-item:last-child::after {align-self: flex-start;width: 50%;}#sk-container-id-1 div.sk-parallel-item:only-child::after {width: 0;}#sk-container-id-1 div.sk-dashed-wrapped {border: 1px dashed gray;margin: 0 0.4em 0.5em 0.4em;box-sizing: border-box;padding-bottom: 0.4em;background-color: white;}#sk-container-id-1 div.sk-label label {font-family: monospace;font-weight: bold;display: inline-block;line-height: 1.2em;}#sk-container-id-1 div.sk-label-container {text-align: center;}#sk-container-id-1 div.sk-container {/* jupyter's `normalize.less` sets `[hidden] { display: none; }` but bootstrap.min.css set `[hidden] { display: none !important; }` so we also need the `!important` here to be able to override the default hidden behavior on the sphinx rendered scikit-learn.org. See: https://github.com/scikit-learn/scikit-learn/issues/21755 */display: inline-block !important;position: relative;}#sk-container-id-1 div.sk-text-repr-fallback {display: none;}</style><div id=\"sk-container-id-1\" class=\"sk-top-container\"><div class=\"sk-text-repr-fallback\"><pre>SVC()</pre><b>In a Jupyter environment, please rerun this cell to show the HTML representation or trust the notebook. <br />On GitHub, the HTML representation is unable to render, please try loading this page with nbviewer.org.</b></div><div class=\"sk-container\" hidden><div class=\"sk-item\"><div class=\"sk-estimator sk-toggleable\"><input class=\"sk-toggleable__control sk-hidden--visually\" id=\"sk-estimator-id-1\" type=\"checkbox\" checked><label for=\"sk-estimator-id-1\" class=\"sk-toggleable__label sk-toggleable__label-arrow\">SVC</label><div class=\"sk-toggleable__content\"><pre>SVC()</pre></div></div></div></div></div>"
      ],
      "text/plain": [
       "SVC()"
      ]
     },
     "execution_count": 11,
     "metadata": {},
     "output_type": "execute_result"
    }
   ],
   "source": [
    "from sklearn.svm import SVC\n",
    "model=SVC()\n",
    "model.fit(x_train,y_train)"
   ]
  },
  {
   "cell_type": "code",
   "execution_count": 12,
   "id": "c78c99e5-3b19-4ef7-86fa-3e477ff95815",
   "metadata": {},
   "outputs": [],
   "source": [
    "y_predict=model.predict(x_test)"
   ]
  },
  {
   "cell_type": "code",
   "execution_count": 13,
   "id": "b6aa5748-5b8e-4725-a4fb-ffcb6c1bb55b",
   "metadata": {},
   "outputs": [
    {
     "name": "stdout",
     "output_type": "stream",
     "text": [
      "accuracy: 0.9682539682539683\n"
     ]
    }
   ],
   "source": [
    "from sklearn.metrics import accuracy_score\n",
    "score=accuracy_score(y_test,y_predict)\n",
    "print(\"accuracy:\",score)"
   ]
  },
  {
   "cell_type": "code",
   "execution_count": null,
   "id": "4cc0bb89-4f8a-4188-9d6c-3de93af8cff8",
   "metadata": {},
   "outputs": [],
   "source": []
  },
  {
   "cell_type": "code",
   "execution_count": null,
   "id": "62138679-ffb7-403a-a7da-0a50c0bb40a0",
   "metadata": {},
   "outputs": [],
   "source": []
  },
  {
   "cell_type": "code",
   "execution_count": null,
   "id": "dc7dde91-d540-44f8-8354-2957959a71fa",
   "metadata": {},
   "outputs": [],
   "source": []
  },
  {
   "cell_type": "code",
   "execution_count": null,
   "id": "44d3ca7f-87c3-4254-a621-39e300abadeb",
   "metadata": {},
   "outputs": [],
   "source": []
  },
  {
   "cell_type": "code",
   "execution_count": null,
   "id": "4628a9ef-a245-441b-840b-705993a27d7b",
   "metadata": {},
   "outputs": [],
   "source": []
  },
  {
   "cell_type": "code",
   "execution_count": null,
   "id": "fa91df67-a321-4b84-a1ef-02753f95d5d2",
   "metadata": {},
   "outputs": [],
   "source": []
  },
  {
   "cell_type": "code",
   "execution_count": null,
   "id": "3d6fd943-0156-4ff2-8eb3-634152ea42d3",
   "metadata": {},
   "outputs": [],
   "source": []
  }
 ],
 "metadata": {
  "kernelspec": {
   "display_name": "Python 3 (ipykernel)",
   "language": "python",
   "name": "python3"
  },
  "language_info": {
   "codemirror_mode": {
    "name": "ipython",
    "version": 3
   },
   "file_extension": ".py",
   "mimetype": "text/x-python",
   "name": "python",
   "nbconvert_exporter": "python",
   "pygments_lexer": "ipython3",
   "version": "3.11.7"
  }
 },
 "nbformat": 4,
 "nbformat_minor": 5
}
